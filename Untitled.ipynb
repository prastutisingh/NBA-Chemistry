{
 "cells": [
  {
   "cell_type": "code",
   "execution_count": 1,
   "metadata": {},
   "outputs": [],
   "source": [
    "import pandas as pd\n",
    "import numpy as np\n",
    "import os\n",
    "import matplotlib.pyplot as plt\n",
    "from sklearn.utils import shuffle\n",
    "from sklearn.model_selection import train_test_split\n",
    "import torch\n",
    "import time\n",
    "\n",
    "curr_directory = os.getcwd()\n",
    "#\n",
    "#\n",
    "#\n",
    "# Create index for all players + roster dictionaries\n",
    "#\n",
    "#\n",
    "# Player Roster Information (Copied over from player_roster.ipynb)\n",
    "teams = ['BOS','BRK','NYK','PHI','TOR','CHI','CLE','DET','IND','MIL','ATL','CHO','MIA','ORL','WAS',\n",
    "         'DEN','MIN','OKC','POR','UTA','GSW','LAC','LAL','PHO','SAC','DAL','HOU','MEM','NOP','SAS']\n",
    "        \n",
    "# Dictionary of roster\n",
    "# Ex. The roster of Boston Celtics players for the 2019-2020 season can be accessed using roster['BOS']['2019']\n",
    "# It does not include any players/rookies for which there is no season data\n",
    "roster = {}\n",
    "    \n",
    "for team in teams: \n",
    "    roster[team] = {}\n",
    "\n",
    "# Initialize set for list of all players (with no repeats)\n",
    "all_players = set()\n",
    "    \n",
    "for filename in os.listdir(os.path.join(curr_directory, 'data_sets/player_roster')):\n",
    "    data = pd.read_csv(os.path.join('data_sets/player_roster', filename))\n",
    "    year = filename[0:4]\n",
    "    \n",
    "    for team in teams:\n",
    "        roster[team][year] = []\n",
    "        \n",
    "        players = data.loc[data['Tm'] == team]\n",
    "        for ind in players.index: \n",
    "            player_name = players['Player'][ind].split('\\\\', 1)[0]\n",
    "            if player_name not in roster[team][year]: \n",
    "                roster[team][year].append(player_name)\n",
    "            \n",
    "        all_players.update(roster[team][year])\n",
    "\n",
    "num_players = len(all_players)\n",
    "        \n",
    "# Player dictionary that maps all players to index\n",
    "player_index = dict(zip(list(all_players), range(len(all_players))))"
   ]
  },
  {
   "cell_type": "code",
   "execution_count": 2,
   "metadata": {},
   "outputs": [
    {
     "name": "stdout",
     "output_type": "stream",
     "text": [
      "      Rk                  Player Pos  Age   Tm   G  GS    MP   FG   FGA  ...  \\\n",
      "0      1  Álex Abrines\\abrinal01  SG   25  OKC  31   2  19.0  1.8   5.1  ...   \n",
      "1      2      Quincy Acy\\acyqu01  PF   28  PHO  10   0  12.3  0.4   1.8  ...   \n",
      "2      3  Jaylen Adams\\adamsja01  PG   22  ATL  34   1  12.6  1.1   3.2  ...   \n",
      "3      4  Steven Adams\\adamsst01   C   25  OKC  80  80  33.4  6.0  10.1  ...   \n",
      "4      5   Bam Adebayo\\adebaba01   C   21  MIA  82  28  23.3  3.4   5.9  ...   \n",
      "..   ...                     ...  ..  ...  ...  ..  ..   ...  ...   ...  ...   \n",
      "703  528  Tyler Zeller\\zellety01   C   29  MEM   4   1  20.5  4.0   7.0  ...   \n",
      "704  529    Ante Žižić\\zizican01   C   22  CLE  59  25  18.3  3.1   5.6  ...   \n",
      "705  530   Ivica Zubac\\zubaciv01   C   21  TOT  59  37  17.6  3.6   6.4  ...   \n",
      "706  530   Ivica Zubac\\zubaciv01   C   21  LAL  33  12  15.6  3.4   5.8  ...   \n",
      "707  530   Ivica Zubac\\zubaciv01   C   21  LAC  26  25  20.2  3.8   7.2  ...   \n",
      "\n",
      "       FT%  ORB  DRB  TRB  AST  STL  BLK  TOV   PF   PTS  \n",
      "0    0.923  0.2  1.4  1.5  0.6  0.5  0.2  0.5  1.7   5.3  \n",
      "1    0.700  0.3  2.2  2.5  0.8  0.1  0.4  0.4  2.4   1.7  \n",
      "2    0.778  0.3  1.4  1.8  1.9  0.4  0.1  0.8  1.3   3.2  \n",
      "3    0.500  4.9  4.6  9.5  1.6  1.5  1.0  1.7  2.6  13.9  \n",
      "4    0.735  2.0  5.3  7.3  2.2  0.9  0.8  1.5  2.5   8.9  \n",
      "..     ...  ...  ...  ...  ...  ...  ...  ...  ...   ...  \n",
      "703  0.778  2.3  2.3  4.5  0.8  0.3  0.8  1.0  4.0  11.5  \n",
      "704  0.705  1.8  3.6  5.4  0.9  0.2  0.4  1.0  1.9   7.8  \n",
      "705  0.802  1.9  4.2  6.1  1.1  0.2  0.9  1.2  2.3   8.9  \n",
      "706  0.864  1.6  3.3  4.9  0.8  0.1  0.8  1.0  2.2   8.5  \n",
      "707  0.733  2.3  5.3  7.7  1.5  0.4  0.9  1.4  2.5   9.4  \n",
      "\n",
      "[708 rows x 30 columns]\n",
      "2018\n"
     ]
    }
   ],
   "source": [
    "for filename in os.listdir(os.path.join(curr_directory, 'data_sets/player_minutes')):\n",
    "    data = pd.read_csv(os.path.join('data_sets/player_minutes', filename))\n",
    "    year = filename[0:4]\n",
    "\n",
    "print(data)"
   ]
  },
  {
   "cell_type": "code",
   "execution_count": 4,
   "metadata": {},
   "outputs": [],
   "source": [
    "players = data['Player']\n",
    "ls = np.zeros(num_players)\n",
    "for item in players: \n",
    "    player_name = item.split('\\\\')[0]\n",
    "    index = player_index[player_name]\n",
    "    ls[index] = 5"
   ]
  },
  {
   "cell_type": "code",
   "execution_count": 24,
   "metadata": {},
   "outputs": [],
   "source": [
    "player_minutes = pd.Series(list(player_index.values()))"
   ]
  },
  {
   "cell_type": "code",
   "execution_count": 29,
   "metadata": {},
   "outputs": [
    {
     "ename": "AttributeError",
     "evalue": "'Series' object has no attribute 'insert'",
     "output_type": "error",
     "traceback": [
      "\u001b[0;31m---------------------------------------------------------------------------\u001b[0m",
      "\u001b[0;31mAttributeError\u001b[0m                            Traceback (most recent call last)",
      "\u001b[0;32m<ipython-input-29-c1e59e65bc91>\u001b[0m in \u001b[0;36m<module>\u001b[0;34m()\u001b[0m\n\u001b[0;32m----> 1\u001b[0;31m \u001b[0mplayer_minutes\u001b[0m\u001b[0;34m.\u001b[0m\u001b[0minsert\u001b[0m\u001b[0;34m(\u001b[0m\u001b[0;36m0\u001b[0m\u001b[0;34m,\u001b[0m \u001b[0;34m'Name'\u001b[0m\u001b[0;34m,\u001b[0m \u001b[0mlist\u001b[0m\u001b[0;34m(\u001b[0m\u001b[0mplayer_index\u001b[0m\u001b[0;34m.\u001b[0m\u001b[0mkeys\u001b[0m\u001b[0;34m(\u001b[0m\u001b[0;34m)\u001b[0m\u001b[0;34m)\u001b[0m\u001b[0;34m)\u001b[0m\u001b[0;34m\u001b[0m\u001b[0;34m\u001b[0m\u001b[0m\n\u001b[0m",
      "\u001b[0;32m/anaconda3/lib/python3.6/site-packages/pandas/core/generic.py\u001b[0m in \u001b[0;36m__getattr__\u001b[0;34m(self, name)\u001b[0m\n\u001b[1;32m   5177\u001b[0m             \u001b[0;32mif\u001b[0m \u001b[0mself\u001b[0m\u001b[0;34m.\u001b[0m\u001b[0m_info_axis\u001b[0m\u001b[0;34m.\u001b[0m\u001b[0m_can_hold_identifiers_and_holds_name\u001b[0m\u001b[0;34m(\u001b[0m\u001b[0mname\u001b[0m\u001b[0;34m)\u001b[0m\u001b[0;34m:\u001b[0m\u001b[0;34m\u001b[0m\u001b[0;34m\u001b[0m\u001b[0m\n\u001b[1;32m   5178\u001b[0m                 \u001b[0;32mreturn\u001b[0m \u001b[0mself\u001b[0m\u001b[0;34m[\u001b[0m\u001b[0mname\u001b[0m\u001b[0;34m]\u001b[0m\u001b[0;34m\u001b[0m\u001b[0;34m\u001b[0m\u001b[0m\n\u001b[0;32m-> 5179\u001b[0;31m             \u001b[0;32mreturn\u001b[0m \u001b[0mobject\u001b[0m\u001b[0;34m.\u001b[0m\u001b[0m__getattribute__\u001b[0m\u001b[0;34m(\u001b[0m\u001b[0mself\u001b[0m\u001b[0;34m,\u001b[0m \u001b[0mname\u001b[0m\u001b[0;34m)\u001b[0m\u001b[0;34m\u001b[0m\u001b[0;34m\u001b[0m\u001b[0m\n\u001b[0m\u001b[1;32m   5180\u001b[0m \u001b[0;34m\u001b[0m\u001b[0m\n\u001b[1;32m   5181\u001b[0m     \u001b[0;32mdef\u001b[0m \u001b[0m__setattr__\u001b[0m\u001b[0;34m(\u001b[0m\u001b[0mself\u001b[0m\u001b[0;34m,\u001b[0m \u001b[0mname\u001b[0m\u001b[0;34m,\u001b[0m \u001b[0mvalue\u001b[0m\u001b[0;34m)\u001b[0m\u001b[0;34m:\u001b[0m\u001b[0;34m\u001b[0m\u001b[0;34m\u001b[0m\u001b[0m\n",
      "\u001b[0;31mAttributeError\u001b[0m: 'Series' object has no attribute 'insert'"
     ]
    }
   ],
   "source": [
    "player_minutes.insert(0, 'Name', list(player_index.keys()))"
   ]
  },
  {
   "cell_type": "code",
   "execution_count": 28,
   "metadata": {},
   "outputs": [
    {
     "data": {
      "text/plain": [
       "963"
      ]
     },
     "execution_count": 28,
     "metadata": {},
     "output_type": "execute_result"
    }
   ],
   "source": []
  },
  {
   "cell_type": "code",
   "execution_count": null,
   "metadata": {},
   "outputs": [],
   "source": []
  }
 ],
 "metadata": {
  "kernelspec": {
   "display_name": "Python 3",
   "language": "python",
   "name": "python3"
  },
  "language_info": {
   "codemirror_mode": {
    "name": "ipython",
    "version": 3
   },
   "file_extension": ".py",
   "mimetype": "text/x-python",
   "name": "python",
   "nbconvert_exporter": "python",
   "pygments_lexer": "ipython3",
   "version": "3.6.7"
  }
 },
 "nbformat": 4,
 "nbformat_minor": 2
}
