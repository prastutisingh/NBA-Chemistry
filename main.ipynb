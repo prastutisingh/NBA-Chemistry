{
 "cells": [
  {
   "cell_type": "code",
   "execution_count": 161,
   "metadata": {},
   "outputs": [],
   "source": [
    "import pandas as pd \n",
    "import numpy as np\n",
    "import os\n",
    "import matplotlib.pyplot as plt\n",
    "\n",
    "curr_directory = os.getcwd()\n",
    "\n",
    "# Player Roster Information (Copied over from player_roster.ipynb)\n",
    "teams = ['BOS','BRK','NYK','PHI','TOR','CHI','CLE','DET','IND','MIL','ATL','CHO','MIA','ORL','WAS',\n",
    "         'DEN','MIN','OKC','POR','UTA','GSW','LAC','LAL','PHO','SAC','DAL','HOU','MEM','NOP','SAS']\n",
    "        \n",
    "# Dictionary of roster\n",
    "# Ex. The roster of Boston Celtics players for the 2019-2020 season can be accessed using roster['BOS']['2019']\n",
    "# It does not include any players/rookies for which there is no season data\n",
    "roster = {}\n",
    "    \n",
    "for team in teams: \n",
    "    roster[team] = {}\n",
    "\n",
    "# Initialize set for list of all players (with no repeats)\n",
    "all_players = set()\n",
    "    \n",
    "for filename in os.listdir(os.path.join(curr_directory, 'data_sets/player_roster')):\n",
    "    data = pd.read_csv(os.path.join('data_sets/player_roster', filename))\n",
    "    year = filename[0:4]\n",
    "    \n",
    "    for team in teams:\n",
    "        roster[team][year] = []\n",
    "        \n",
    "        players = data.loc[data['Tm'] == team]\n",
    "        for ind in players.index: \n",
    "            player_name = players['Player'][ind].split('\\\\', 1)[0]\n",
    "            if player_name not in roster[team][year]: \n",
    "                roster[team][year].append(player_name)\n",
    "            \n",
    "        all_players.update(roster[team][year])\n",
    "\n",
    "num_players = len(all_players)\n",
    "        \n",
    "# Player dictionary that maps all players to index\n",
    "player_index = dict(zip(list(all_players), range(len(all_players))))\n"
   ]
  },
  {
   "cell_type": "code",
   "execution_count": 162,
   "metadata": {},
   "outputs": [],
   "source": [
    "# playbyplay_Data = pd.read_csv('/Users/baiyangwang/Box Sync/academics/maching learning/final-project/NBA-PBP-2018-2019.csv')\n",
    "\n",
    "### What is the first column being loaded here? \n",
    "game_data = pd.read_csv(os.path.join(curr_directory,'data_sets/nba.games.stats.csv'))\n",
    "\n",
    "# Sort all values by the Date\n",
    "game_data = game_data.sort_values(by=['Date'])"
   ]
  },
  {
   "cell_type": "code",
   "execution_count": 163,
   "metadata": {},
   "outputs": [],
   "source": [
    "# game has chronical order and Y shows score differential, X plus is team 1 payer\n",
    "# X minus is team 2 player\n",
    "game_results = np.array(list(game_data['TeamPoints'] - game_data['OpponentPoints']))\n",
    "teams = np.array(list(zip(game_data.Team, game_data.Opponent)))\n",
    "dates = np.array(list(game_data['Date']))\n",
    "\n",
    "unique_dates = list(set(dates))"
   ]
  },
  {
   "cell_type": "code",
   "execution_count": 164,
   "metadata": {},
   "outputs": [
    {
     "name": "stdout",
     "output_type": "stream",
     "text": [
      "(4920,)\n",
      "(4920, 2)\n",
      "(4920,)\n",
      "(9840,)\n",
      "(9840, 2)\n",
      "(9840,)\n"
     ]
    }
   ],
   "source": [
    "# Makes an index of all games that are repeated\n",
    "repeat_indexes = []\n",
    "\n",
    "for date in unique_dates: \n",
    "    same_day = np.where(dates == date)\n",
    "    # suppose same_day = [0, 1, 2, 3, 4, 5]\n",
    "    for i in same_day[0]: \n",
    "        # start with i = 0\n",
    "        for j in same_day[0]: \n",
    "            # j = 0, 1, 2, 3, 4, 5\n",
    "            if j > i: \n",
    "                if np.array_equal(np.flip(teams[j], axis=0) , teams[i]): \n",
    "                    repeat_indexes.append(j)\n",
    "\n",
    "# Make new unique game results, teams and dates arrays\n",
    "unique_game_results = game_results[repeat_indexes]\n",
    "unique_teams = teams[repeat_indexes]\n",
    "unique_dates = dates[repeat_indexes]\n",
    "\n",
    "print(unique_game_results.shape)\n",
    "print(unique_teams.shape)\n",
    "print(unique_dates.shape)\n",
    "\n",
    "unique_game_results = game_results\n",
    "unique_teams = teams\n",
    "unique_dates = dates\n",
    "\n",
    "print(unique_game_results.shape)\n",
    "print(unique_teams.shape)\n",
    "print(unique_dates.shape)"
   ]
  },
  {
   "cell_type": "code",
   "execution_count": 169,
   "metadata": {},
   "outputs": [],
   "source": [
    "# create a class for linear regression\n",
    "class LinearRegression:\n",
    "    def __init__(self, step_size=5e-6, max_iter=3000, eps=1e-7, theta=None, \n",
    "                  verbose=True):\n",
    "        \n",
    "        self.theta = theta\n",
    "        self.step_size = step_size\n",
    "        self.max_iter = max_iter\n",
    "        self.eps = eps\n",
    "\n",
    "    def predict(self, teams, date):\n",
    "        x, z = x_for_game(teams, date)\n",
    "        team_1_S = np.matmul(np.transpose(x), np.matmul(self.synergy, x))\n",
    "        team_2_S = np.matmul(np.transpose(z), np.matmul(self.synergy, z))\n",
    "        cross_term = np.matmul(np.transpose(x), np.matmul(self.antisynergy, z))\n",
    "        \n",
    "        return team_1_S - team_2_S + 2*cross_term\n",
    "    \n",
    "    def gradBatchLossFunction(self, x_teams, y_teams):\n",
    "        update = 0\n",
    "        theta = np.matrix(self.theta)\n",
    "        for i in range(x_teams.shape[0]):\n",
    "            x = np.matrix(x_teams[i,:])\n",
    "            y = np.matrix(y_teams[i])   \n",
    "            update += x.T*x*theta*x.T*x - x.T*y*x\n",
    "            \n",
    "        return update\n",
    "    \n",
    "    def gradminiBatchLossFunction(self, x_teams, y_teams, batch_size, index):\n",
    "        update = 0\n",
    "        theta = np.matrix(self.theta)\n",
    "        for i in range(batch_size):\n",
    "            x = np.matrix(x_teams[int((i+index)%x_teams.shape[0]),:])\n",
    "            y = np.matrix(y_teams[int((i+index)%x_teams.shape[0])])   \n",
    "            update += x.T*x*theta*x.T*x - x.T*y*x\n",
    "            \n",
    "        return update\n",
    "    \n",
    "    def fit(self, x, y, mini = False):\n",
    "        iterations = 0\n",
    "        abs_error = 1\n",
    "        error_list = []\n",
    "        batch_size = 32\n",
    "        ind = 0\n",
    "        \n",
    "        if self.theta is None: \n",
    "            self.theta = np.zeros((2*num_players, 2*num_players))\n",
    "        \n",
    "        if mini == False:\n",
    "            while iterations < self.max_iter and abs_error >= self.eps:\n",
    "                error = self.step_size*self.gradBatchLossFunction(x, y)\n",
    "                abs_error = np.linalg.norm(error, 2)\n",
    "                error_list.append(abs_error)\n",
    "\n",
    "                theta_new = self.theta - error\n",
    "                self.theta = theta_new\n",
    "\n",
    "                iterations += 1\n",
    "\n",
    "                print('Error: {}'.format(abs_error))\n",
    "        else:\n",
    "            while iterations < self.max_iter and abs_error >= self.eps:\n",
    "                error = self.step_size*self.gradminiBatchLossFunction(x, y, batch_size, ind)\n",
    "                abs_error = np.linalg.norm(error, 2)\n",
    "                error_list.append(abs_error)\n",
    "\n",
    "                theta_new = self.theta - error\n",
    "                self.theta = theta_new\n",
    "\n",
    "                iterations += 1\n",
    "                ind += batch_size\n",
    "\n",
    "                print('Error: {}'.format(abs_error))\n",
    "        \n",
    "        print('Convergence!')\n",
    "        plt.plot(error_list)\n",
    "        plt.show()\n",
    "        \n",
    "    def process_data(self, teams, dates, results): \n",
    "        num_games = teams.shape[0]\n",
    "\n",
    "        # Create x for all games\n",
    "        # To access x for 0th game -- x[:, 0] \n",
    "        x = np.zeros((num_games, 2*num_players))\n",
    "        \n",
    "        for i in range(num_games): \n",
    "            z, t = self.x_for_game(teams[i], dates[i])\n",
    "            combined = np.vstack((z, t))\n",
    "            x[i, :] = combined[:,0]\n",
    "        \n",
    "        # Create y for all games (if team A wins, y = 1; if team B wins, y = 0)\n",
    "        y = np.zeros((num_games, 1))\n",
    "        for i in range(num_games): \n",
    "            if results[i] > 0: \n",
    "                y[i] = 1\n",
    "            else:\n",
    "                y[i] = -1\n",
    "                \n",
    "        return x, y\n",
    "\n",
    "    def x_for_game(self, teams, date): \n",
    "        x_1 = np.zeros((num_players, 1))\n",
    "        x_2 = np.zeros((num_players, 1))\n",
    "\n",
    "        if int(date[5:7]) < 9: \n",
    "            year = str(int(date[0:4]) - 1)\n",
    "        else: \n",
    "            year = date[0:4]\n",
    "\n",
    "        team_1_players = roster[team][year]\n",
    "        for item in team_1_players: \n",
    "            x_1[player_index[item]] = 1\n",
    "\n",
    "        team_2_players = roster[team][year]\n",
    "        for item in team_2_players: \n",
    "            x_2[player_index[item]] = 1\n",
    "\n",
    "        return x_1, x_2"
   ]
  },
  {
   "cell_type": "code",
   "execution_count": 170,
   "metadata": {},
   "outputs": [
    {
     "data": {
      "text/plain": [
       "963"
      ]
     },
     "execution_count": 170,
     "metadata": {},
     "output_type": "execute_result"
    }
   ],
   "source": [
    "num_players"
   ]
  },
  {
   "cell_type": "code",
   "execution_count": 171,
   "metadata": {},
   "outputs": [],
   "source": [
    "test = LinearRegression()\n",
    "x, y = test.process_data(unique_teams[0:100], unique_dates[0:100], unique_game_results[0:100])"
   ]
  },
  {
   "cell_type": "code",
   "execution_count": 172,
   "metadata": {},
   "outputs": [
    {
     "name": "stdout",
     "output_type": "stream",
     "text": [
      "Error: 0.00034\n",
      "Error: 0.00014347999999999957\n",
      "Error: 6.054856000000008e-05\n",
      "Error: 2.555149231999927e-05\n",
      "Error: 1.0782729759039989e-05\n",
      "Error: 4.55031195831561e-06\n",
      "Error: 1.920231646408204e-06\n",
      "Error: 8.103377547854576e-07\n",
      "Error: 3.4196253251974614e-07\n",
      "Error: 1.443081887226172e-07\n",
      "Error: 6.089805564068572e-08\n",
      "Convergence!\n"
     ]
    },
    {
     "data": {
      "image/png": "[encoded data removed]",
      "text/plain": [
       "<Figure size 432x288 with 1 Axes>"
      ]
     },
     "metadata": {},
     "output_type": "display_data"
    }
   ],
   "source": [
    "test.fit(x, y, False)"
   ]
  },
  {
   "cell_type": "code",
   "execution_count": 180,
   "metadata": {},
   "outputs": [
    {
     "name": "stdout",
     "output_type": "stream",
     "text": [
      "(962, 962)\n",
      "True\n",
      "True\n",
      "True\n",
      "True\n"
     ]
    },
    {
     "data": {
      "image/png": "[encoded data removed]",
      "text/plain": [
       "<Figure size 432x288 with 2 Axes>"
      ]
     },
     "metadata": {},
     "output_type": "display_data"
    }
   ],
   "source": [
    "fig, ax = plt.subplots()\n",
    "S = test.theta[0:962, 0:962]\n",
    "S2 = test.theta[963:1925, 963:1925]\n",
    "A = test.theta[0:962, 963:1925]\n",
    "A2 = test.theta[963:1925, 0:962]\n",
    "\n",
    "print(A.shape)\n",
    "print(np.allclose(S, S.T, 1e-10, 1e-10))\n",
    "print(np.allclose(S, S2, 1e-10, 1e-10))\n",
    "print(np.allclose(A, A.T, 1e-10, 1e-10))\n",
    "print(np.allclose(A, A2, 1e-10, 1e-10))\n",
    "im = ax.matshow(S2)\n",
    "cbar = fig.colorbar(im)\n",
    "\n",
    "fig.tight_layout()\n",
    "plt.show()"
   ]
  },
  {
   "cell_type": "code",
   "execution_count": null,
   "metadata": {},
   "outputs": [],
   "source": []
  }
 ],
 "metadata": {
  "kernelspec": {
   "display_name": "Python 3",
   "language": "python",
   "name": "python3"
  }
 },
 "nbformat": 4,
 "nbformat_minor": 2
}
