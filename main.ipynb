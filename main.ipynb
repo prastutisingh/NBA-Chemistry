{
 "cells": [
  {
   "cell_type": "code",
   "execution_count": 206,
   "metadata": {},
   "outputs": [],
   "source": [
    "import pandas as pd \n",
    "import numpy as np\n",
    "import os\n",
    "\n",
    "curr_directory = os.getcwd()\n",
    "\n",
    "# Player Roster Information (Copied over from player_roster.ipynb)\n",
    "teams = ['BOS','BRK','NYK','PHI','TOR','CHI','CLE','DET','IND','MIL','ATL','CHO','MIA','ORL','WAS',\n",
    "         'DEN','MIN','OKC','POR','UTA','GSW','LAC','LAL','PHO','SAC','DAL','HOU','MEM','NOP','SAS']\n",
    "        \n",
    "# Dictionary of roster\n",
    "# Ex. The roster of Boston Celtics players for the 2019-2020 season can be accessed using roster['BOS']['2019']\n",
    "# It does not include any players/rookies for which there is no season data\n",
    "roster = {}\n",
    "    \n",
    "for team in teams: \n",
    "    roster[team] = {}\n",
    "\n",
    "# Initialize set for list of all players (with no repeats)\n",
    "all_players = set()\n",
    "    \n",
    "for filename in os.listdir(os.path.join(curr_directory, 'data_sets/player_roster')):\n",
    "    data = pd.read_csv(os.path.join('data_sets/player_roster', filename))\n",
    "    year = filename[0:4]\n",
    "    \n",
    "    for team in teams:\n",
    "        roster[team][year] = []\n",
    "        \n",
    "        players = data.loc[data['Tm'] == team]\n",
    "        for ind in players.index: \n",
    "            player_name = players['Player'][ind].split('\\\\', 1)[0]\n",
    "            if player_name not in roster[team][year]: \n",
    "                roster[team][year].append(player_name)\n",
    "            \n",
    "        all_players.update(roster[team][year])\n",
    "\n",
    "# Player dictionary that maps all players to index\n",
    "player_index = dict(zip(list(all_players), range(len(all_players))))"
   ]
  },
  {
   "cell_type": "code",
   "execution_count": 190,
   "metadata": {},
   "outputs": [],
   "source": [
    "# playbyplay_Data = pd.read_csv('/Users/baiyangwang/Box Sync/academics/maching learning/final-project/NBA-PBP-2018-2019.csv')\n",
    "\n",
    "### What is the first column being loaded here? \n",
    "game_data = pd.read_csv(os.path.join(curr_directory,'data_sets/nba.games.stats.csv'))\n",
    "\n",
    "# Sort all values by the Date\n",
    "game_data = game_data.sort_values(by=['Date'])"
   ]
  },
  {
   "cell_type": "code",
   "execution_count": 191,
   "metadata": {},
   "outputs": [],
   "source": [
    "# game has chronical order and Y shows score differential, X plus is team 1 payer\n",
    "# X minus is team 2 player\n",
    "game_results = np.array(list(game_data['TeamPoints'] - game_data['OpponentPoints']))\n",
    "teams = np.array(list(zip(game_data.Team, game_data.Opponent)))\n",
    "dates = np.array(list(game_data['Date']))\n",
    "\n",
    "unique_dates = list(set(dates))"
   ]
  },
  {
   "cell_type": "code",
   "execution_count": 192,
   "metadata": {},
   "outputs": [],
   "source": [
    "# Makes an index of all games that are repeated\n",
    "repeat_indexes = []\n",
    "\n",
    "for date in unique_dates: \n",
    "    same_day = np.where(dates == date)\n",
    "    # suppose same_day = [0, 1, 2, 3, 4, 5]\n",
    "    for i in same_day[0]: \n",
    "        # start with i = 0\n",
    "        for j in same_day[0]: \n",
    "            # j = 0, 1, 2, 3, 4, 5\n",
    "            if j > i: \n",
    "                if np.array_equal(np.flip(teams[j], axis=0) , teams[i]): \n",
    "                    repeat_indexes.append(j)\n",
    "\n",
    "# Make new unique game results, teams and dates arrays\n",
    "unique_game_results = game_results[repeat_indexes]\n",
    "unique_teams = teams[repeat_indexes]\n",
    "unique_dates = dates[repeat_indexes]"
   ]
  },
  {
   "cell_type": "code",
   "execution_count": 218,
   "metadata": {},
   "outputs": [],
   "source": [
    "# Initialize synergy and anti-synergy parameters\n",
    "synergy = np.zeros([num_players,num_players])\n",
    "antisynergy = np.zeros([num_players,num_players])\n",
    "\n",
    "def x_for_game(teams, date): \n",
    "    x_1 = np.zeros(num_players)\n",
    "    x_2 = np.zeros(num_players)\n",
    "    \n",
    "    if int(date[5:7]) < 9: \n",
    "        year = str(int(date[0:4]) - 1)\n",
    "    else: \n",
    "        year = date[0:4]\n",
    "    \n",
    "    for team in teams: \n",
    "        game_players = roster[team][year]\n",
    "        for item in game_players: \n",
    "            x_1[player_index[item]] = 1\n",
    "            \n",
    "    return x_1, x_2"
   ]
  },
  {
   "cell_type": "code",
   "execution_count": null,
   "metadata": {},
   "outputs": [],
   "source": [
    "# create a class for linear regression\n",
    "class LinearRegression:\n",
    "    def __init__(self, step_size=0.01, max_iter=1000000, eps=1e-5,\n",
    "                 theta_0, verbose=True):\n",
    "        \n",
    "        self.theta = theta_0\n",
    "        self.step_size = step_size\n",
    "        self.max_iter = max_iter\n",
    "        self.eps = eps\n",
    "\n",
    "    def predict(self, x):\n",
    "        "
   ]
  },
  {
   "cell_type": "code",
   "execution_count": null,
   "metadata": {},
   "outputs": [],
   "source": []
  }
 ],
 "metadata": {
  "kernelspec": {
   "display_name": "Python 3",
   "language": "python",
   "name": "python3"
  }
 },
 "nbformat": 4,
 "nbformat_minor": 2
}
