{
 "cells": [
  {
   "cell_type": "code",
   "execution_count": 11,
   "metadata": {},
   "outputs": [
    {
     "name": "stdout",
     "output_type": "stream",
     "text": [
      "963\n"
     ]
    }
   ],
   "source": [
    "import pandas as pd \n",
    "import numpy as np\n",
    "import os\n",
    "import matplotlib.pyplot as plt\n",
    "\n",
    "curr_directory = os.getcwd()\n",
    "\n",
    "# Player Roster Information (Copied over from player_roster.ipynb)\n",
    "teams = ['BOS','BRK','NYK','PHI','TOR','CHI','CLE','DET','IND','MIL','ATL','CHO','MIA','ORL','WAS',\n",
    "         'DEN','MIN','OKC','POR','UTA','GSW','LAC','LAL','PHO','SAC','DAL','HOU','MEM','NOP','SAS']\n",
    "        \n",
    "# Dictionary of roster\n",
    "# Ex. The roster of Boston Celtics players for the 2019-2020 season can be accessed using roster['BOS']['2019']\n",
    "# It does not include any players/rookies for which there is no season data\n",
    "roster = {}\n",
    "    \n",
    "for team in teams: \n",
    "    roster[team] = {}\n",
    "\n",
    "# Initialize set for list of all players (with no repeats)\n",
    "all_players = set()\n",
    "    \n",
    "for filename in os.listdir(os.path.join(curr_directory, 'data_sets/player_roster')):\n",
    "    data = pd.read_csv(os.path.join('data_sets/player_roster', filename))\n",
    "    year = filename[0:4]\n",
    "    \n",
    "    for team in teams:\n",
    "        roster[team][year] = []\n",
    "        \n",
    "        players = data.loc[data['Tm'] == team]\n",
    "        for ind in players.index: \n",
    "            player_name = players['Player'][ind].split('\\\\', 1)[0]\n",
    "            if player_name not in roster[team][year]: \n",
    "                roster[team][year].append(player_name)\n",
    "            \n",
    "        all_players.update(roster[team][year])\n",
    "\n",
    "num_players = len(all_players)\n",
    "        \n",
    "# Player dictionary that maps all players to index\n",
    "player_index = dict(zip(list(all_players), range(len(all_players))))\n",
    "\n",
    "print(num_players)"
   ]
  },
  {
   "cell_type": "code",
   "execution_count": 12,
   "metadata": {},
   "outputs": [],
   "source": [
    "# playbyplay_Data = pd.read_csv('/Users/baiyangwang/Box Sync/academics/maching learning/final-project/NBA-PBP-2018-2019.csv')\n",
    "\n",
    "### What is the first column being loaded here? \n",
    "game_data = pd.read_csv(os.path.join(curr_directory,'data_sets/nba.games.stats.csv'))\n",
    "\n",
    "# Sort all values by the Date\n",
    "game_data = game_data.sort_values(by=['Date'])"
   ]
  },
  {
   "cell_type": "code",
   "execution_count": 13,
   "metadata": {},
   "outputs": [],
   "source": [
    "# game has chronical order and Y shows score differential, X plus is team 1 payer\n",
    "# X minus is team 2 player\n",
    "game_results = np.array(list(game_data['TeamPoints'] - game_data['OpponentPoints']))\n",
    "teams = np.array(list(zip(game_data.Team, game_data.Opponent)))\n",
    "dates = np.array(list(game_data['Date']))\n",
    "\n",
    "unique_dates = list(set(dates))"
   ]
  },
  {
   "cell_type": "code",
   "execution_count": 14,
   "metadata": {},
   "outputs": [],
   "source": [
    "# Makes an index of all games that are repeated\n",
    "repeat_indexes = []\n",
    "\n",
    "for date in unique_dates: \n",
    "    same_day = np.where(dates == date)\n",
    "    # suppose same_day = [0, 1, 2, 3, 4, 5]\n",
    "    for i in same_day[0]: \n",
    "        # start with i = 0\n",
    "        for j in same_day[0]: \n",
    "            # j = 0, 1, 2, 3, 4, 5\n",
    "            if j > i: \n",
    "                if np.array_equal(np.flip(teams[j], axis=0) , teams[i]): \n",
    "                    repeat_indexes.append(j)\n",
    "\n",
    "# Make new unique game results, teams and dates arrays\n",
    "unique_game_results = game_results[repeat_indexes]\n",
    "unique_teams = teams[repeat_indexes]\n",
    "unique_dates = dates[repeat_indexes]"
   ]
  },
  {
   "cell_type": "code",
   "execution_count": 60,
   "metadata": {},
   "outputs": [],
   "source": [
    "# create a class for linear regression\n",
    "class LinearRegression:\n",
    "    def __init__(self, step_size=1e-6, max_iter=100, eps=1e-5, theta=None, \n",
    "                  verbose=True):\n",
    "        \n",
    "        self.theta = theta\n",
    "        self.step_size = step_size\n",
    "        self.max_iter = max_iter\n",
    "        self.eps = eps\n",
    "\n",
    "    def predict(self, teams, date):\n",
    "        x, z = x_for_game(teams, date)\n",
    "        team_1_S = np.matmul(np.transpose(x), np.matmul(self.synergy, x))\n",
    "        team_2_S = np.matmul(np.transpose(z), np.matmul(self.synergy, z))\n",
    "        cross_term = np.matmul(np.transpose(x), np.matmul(self.antisynergy, z))\n",
    "        \n",
    "        return team_1_S - team_2_S + 2*cross_term\n",
    "    \n",
    "    def gradLossFunction(self, x_teams, y_teams):\n",
    "        update = 0\n",
    "        theta = np.matrix(self.theta)\n",
    "        for i in range(x_teams.shape[0]):\n",
    "            x = np.matrix(x_teams[i,:])\n",
    "            y = np.matrix(y_teams[i])   \n",
    "            update += x.T*x*theta*x.T*x + x.T*y*x\n",
    "            \n",
    "        return update\n",
    "    \n",
    "    def fit(self, x, y):\n",
    "        iterations = 0\n",
    "        abs_error = 1\n",
    "        error_list = []\n",
    "        \n",
    "        if self.theta is None: \n",
    "            self.theta = np.zeros((2*num_players, 2*num_players))\n",
    "        \n",
    "        while iterations < self.max_iter and abs_error >= self.eps:\n",
    "            error = self.step_size*self.gradLossFunction(x, y)\n",
    "            abs_error = np.linalg.norm(error, 2)\n",
    "            error_list.append(abs_error)\n",
    "            \n",
    "            theta_new = self.theta - error\n",
    "            self.theta = theta_new\n",
    "            \n",
    "            iterations += 1\n",
    "            \n",
    "            print('Error: {}'.format(abs_error))\n",
    "        \n",
    "        print('Convergence!')\n",
    "        plt.plot(error_list)\n",
    "        plt.show()\n",
    "        \n",
    "    def process_data(self, teams, dates, results): \n",
    "        num_games = teams.shape[0]\n",
    "\n",
    "        # Create x for all games\n",
    "        # To access x for 0th game -- x[:, 0] \n",
    "        x = np.zeros((num_games, 2*num_players))\n",
    "        for i in range(num_games): \n",
    "            z, t = self.x_for_game(teams[i], dates[i])\n",
    "            combined = np.vstack((z, t))\n",
    "            x[i, :] = combined[:,0]\n",
    "\n",
    "        # Create y for all games (if team A wins, y = 1; if team B wins, y = 0)\n",
    "        y = np.zeros((num_games, 1))\n",
    "        for i in range(num_games): \n",
    "            if results[i] > 0: \n",
    "                y[i] = 1\n",
    "            else:\n",
    "                y[i] = 0\n",
    "                \n",
    "        return x, y\n",
    "\n",
    "    def x_for_game(self, teams, date): \n",
    "        x_1 = np.zeros((num_players, 1))\n",
    "        x_2 = np.zeros((num_players, 1))\n",
    "\n",
    "        if int(date[5:7]) < 9: \n",
    "            year = str(int(date[0:4]) - 1)\n",
    "        else: \n",
    "            year = date[0:4]\n",
    "\n",
    "        team_1_players = roster[team][year]\n",
    "        for item in team_1_players: \n",
    "            x_1[player_index[item]] = 1\n",
    "\n",
    "        team_2_players = roster[team][year]\n",
    "        for item in team_2_players: \n",
    "            x_2[player_index[item]] = -1\n",
    "\n",
    "        return x_1, x_2"
   ]
  },
  {
   "cell_type": "code",
   "execution_count": 58,
   "metadata": {},
   "outputs": [],
   "source": [
    "test = LinearRegression()\n",
    "x, y = test.process_data(unique_teams[0:500], unique_dates[0:500], unique_game_results[0:500])"
   ]
  },
  {
   "cell_type": "code",
   "execution_count": 59,
   "metadata": {},
   "outputs": [
    {
     "name": "stdout",
     "output_type": "stream",
     "text": [
      "Error: 0.0068\n",
      "Error: 0.0028696\n",
      "Error: 0.001210971200000001\n",
      "Error: 0.0005110298464000012\n",
      "Error: 0.00021565459518080055\n",
      "Error: 9.100623916629707e-05\n",
      "Error: 3.840463292817615e-05\n",
      "Error: 1.620675509569065e-05\n",
      "Error: 6.839250650383068e-06\n",
      "Convergence!\n"
     ]
    },
    {
     "data": {
      "image/png": "[encoded data removed]",
      "text/plain": [
       "<matplotlib.figure.Figure at 0x12dad5908>"
      ]
     },
     "metadata": {},
     "output_type": "display_data"
    }
   ],
   "source": [
    "test.fit(x, y)"
   ]
  },
  {
   "cell_type": "code",
   "execution_count": 8,
   "metadata": {},
   "outputs": [
    {
     "data": {
      "image/png": "[encoded data removed]",
      "text/plain": [
       "<matplotlib.figure.Figure at 0x114ecdb00>"
      ]
     },
     "metadata": {},
     "output_type": "display_data"
    }
   ],
   "source": [
    "fig, ax = plt.subplots()\n",
    "S = test.theta[0:963, 0:963]\n",
    "A = test.theta[964:1925, 964:1925]\n",
    "im = ax.matshow(S)\n",
    "cbar = fig.colorbar(im)\n",
    "\n",
    "fig.tight_layout()\n",
    "plt.show()"
   ]
  },
  {
   "cell_type": "code",
   "execution_count": null,
   "metadata": {},
   "outputs": [],
   "source": []
  }
 ],
 "metadata": {
  "kernelspec": {
   "display_name": "Python 3",
   "language": "python",
   "name": "python3"
  },
  "language_info": {
   "codemirror_mode": {
    "name": "ipython",
    "version": 3
   },
   "file_extension": ".py",
   "mimetype": "text/x-python",
   "name": "python",
   "nbconvert_exporter": "python",
   "pygments_lexer": "ipython3",
   "version": "3.6.7"
  }
 },
 "nbformat": 4,
 "nbformat_minor": 2
}
