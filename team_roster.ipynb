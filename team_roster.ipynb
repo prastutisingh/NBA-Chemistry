{
 "cells": [
  {
   "cell_type": "code",
   "execution_count": 50,
   "metadata": {},
   "outputs": [
    {
     "name": "stdout",
     "output_type": "stream",
     "text": [
      "['Jordan Bell', 'Chris Boucher', 'Omri Casspi', 'Quinn Cook', 'Stephen Curry', 'Kevin Durant', 'Draymond Green', 'Andre Iguodala', 'Damian Jones', 'Shaun Livingston', 'Kevon Looney', 'Patrick McCaw', 'JaVale McGee', 'Zaza Pachulia', 'Klay Thompson', 'David West', 'Nick Young', 'Leandro Barbosa', 'Harrison Barnes', 'Andrew Bogut', 'Festus Ezeli', 'Justin Holiday', 'Ognjen Kuzmić', 'David Lee', 'James Michael McAdoo', 'Brandon Rush', 'Marreese Speights', 'Ian Clark', 'Jason Thompson', 'Anderson Varejão', 'Matt Barnes', 'Briante Weber', 'Ky Bowman', 'Alec Burks', 'Willie Cauley-Stein', 'Marquese Chriss', 'Jacob Evans', 'Damion Lee', 'Eric Paschall', 'Jordan Poole', 'Glenn Robinson', \"D'Angelo Russell\", 'Omari Spellman', 'DeMarcus Cousins', 'Marcus Derrickson', 'Jonas Jerebko', 'Alfonzo McKinnie']\n"
     ]
    }
   ],
   "source": [
    "import os\n",
    "import numpy as np\n",
    "import pandas as pd\n",
    "\n",
    "curr_directory = os.getcwd()\n",
    "        \n",
    "class Team: \n",
    "    def __init__(self, name):\n",
    "        self.name = name\n",
    "        self.roster_2014_2015 = []\n",
    "        self.roster_2015_2016 = []\n",
    "        self.roster_2016_2017 = []\n",
    "        self.roster_2017_2018 = []\n",
    "        self.roster_2018_2019 = []\n",
    "        self.roster_2019_2020 = []\n",
    "\n",
    "teams = ['BOS','BRK','NYK','PHI','TOR','CHI','CLE','DET','IND','MIL','ATL','CHO','MIA','ORL','WAS',\n",
    "         'DEN','MIN','OKC','POR','UTA','GSW','LAC','LAL','PHO','SAC','DAL','HOU','MEM','NOP','SAS']\n",
    "        \n",
    "for item in teams: \n",
    "    \n",
    "    \n",
    "BOS = Team(name = 'BOS')\n",
    "BRK = Team(name = 'BRK')\n",
    "NYK = Team(name = 'NYK')\n",
    "PHI = Team(name = 'PHI')\n",
    "TOR = Team(name = 'TOR')\n",
    "CHI = Team(name = 'CHI')\n",
    "CLE = Team(name = 'CLE')\n",
    "DET = Team(name = 'DET')\n",
    "IND = Team(name = 'IND')\n",
    "MIL = Team(name = 'MIL')\n",
    "ATL = Team(name = 'ATL')\n",
    "NYK = Team(name = 'CHO')\n",
    "NYK = Team(name = 'MIA')\n",
    "NYK = Team(name = 'ORL')\n",
    "NYK = Team(name = 'WAS')\n",
    "NYK = Team(name = 'DEN')\n",
    "NYK = Team(name = 'MIN')\n",
    "NYK = Team(name = 'OKC')\n",
    "NYK = Team(name = 'POR')\n",
    "NYK = Team(name = 'UTA')\n",
    "NYK = Team(name = 'GSW')\n",
    "NYK = Team(name = 'LAC')\n",
    "NYK = Team(name = 'LAL')\n",
    "NYK = Team(name = 'PHO')\n",
    "NYK = Team(name = 'SAC')\n",
    "NYK = Team(name = 'DAL')\n",
    "NYK = Team(name = 'HOU')\n",
    "NYK = Team(name = 'MEM')\n",
    "NYK = Team(name = 'NOP')\n",
    "NYK = Team(name = 'SAS')\n",
    "\n",
    "for filename in os.listdir(os.path.join(curr_directory, 'player_roster')):\n",
    "    data = pd.read_csv(os.path.join('player_roster', filename))\n",
    "    \n",
    "    \n",
    "    \n",
    "    for team in roster: \n",
    "        players = data.loc[data['Tm'] == team]\n",
    "        for ind in players.index: \n",
    "            player_name = players['Player'][ind].split('\\\\', 1)[0]\n",
    "            if player_name not in roster[team]: \n",
    "                roster[team].append(player_name)\n"
   ]
  },
  {
   "cell_type": "code",
   "execution_count": null,
   "metadata": {},
   "outputs": [],
   "source": []
  }
 ],
 "metadata": {
  "kernelspec": {
   "display_name": "Python 3",
   "language": "python",
   "name": "python3"
  },
  "language_info": {
   "codemirror_mode": {
    "name": "ipython",
    "version": 3
   },
   "file_extension": ".py",
   "mimetype": "text/x-python",
   "name": "python",
   "nbconvert_exporter": "python",
   "pygments_lexer": "ipython3",
   "version": "3.6.7"
  }
 },
 "nbformat": 4,
 "nbformat_minor": 2
}
